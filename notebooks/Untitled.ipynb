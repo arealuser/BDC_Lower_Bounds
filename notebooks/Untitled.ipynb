{
 "cells": [
  {
   "cell_type": "code",
   "execution_count": 1,
   "id": "413b8460",
   "metadata": {},
   "outputs": [],
   "source": [
    "import lower_bound_baa_optimization\n",
    "import compute_lower_bounds\n",
    "import time\n",
    "import numpy as np"
   ]
  },
  {
   "cell_type": "code",
   "execution_count": 2,
   "id": "972285fc",
   "metadata": {},
   "outputs": [
    {
     "name": "stdout",
     "output_type": "stream",
     "text": [
      "Generating cache table of size 512x512x128 (~25.0 bits)...\n"
     ]
    },
    {
     "name": "stderr",
     "output_type": "stream",
     "text": [
      "100%|████████████████████████████████████████████████████████████████████████████████| 511/511 [00:01<00:00, 377.57it/s]"
     ]
    },
    {
     "name": "stdout",
     "output_type": "stream",
     "text": [
      "Done. Table generation took 3.0 seconds\n"
     ]
    },
    {
     "name": "stderr",
     "output_type": "stream",
     "text": [
      "\n"
     ]
    }
   ],
   "source": [
    "K_MAX = 128\n",
    "R_MAX = 512\n",
    "Z_MAX = 512\n",
    "compute_lower_bounds.compute_RZK_table_BDC(R_MAX, Z_MAX, K_MAX)"
   ]
  },
  {
   "cell_type": "code",
   "execution_count": 22,
   "id": "a6a6f015",
   "metadata": {},
   "outputs": [
    {
     "data": {
      "text/plain": [
       "1.0"
      ]
     },
     "execution_count": 22,
     "metadata": {},
     "output_type": "execute_result"
    }
   ],
   "source": [
    "np.exp(compute_lower_bounds.get_rzk_cache(1, 1, 2))"
   ]
  },
  {
   "cell_type": "code",
   "execution_count": 18,
   "id": "cf0daef3",
   "metadata": {},
   "outputs": [
    {
     "data": {
      "text/plain": [
       "2.7080502011022105"
      ]
     },
     "execution_count": 18,
     "metadata": {},
     "output_type": "execute_result"
    }
   ],
   "source": [
    "compute_lower_bounds.log_over(6, 2)"
   ]
  },
  {
   "cell_type": "code",
   "execution_count": 19,
   "id": "6cee4702",
   "metadata": {},
   "outputs": [
    {
     "data": {
      "text/plain": [
       "-inf"
      ]
     },
     "execution_count": 19,
     "metadata": {},
     "output_type": "execute_result"
    }
   ],
   "source": [
    "compute_lower_bounds.log_over(1, 2)"
   ]
  },
  {
   "cell_type": "code",
   "execution_count": null,
   "id": "2b5afcf5",
   "metadata": {},
   "outputs": [],
   "source": []
  }
 ],
 "metadata": {
  "kernelspec": {
   "display_name": "Python 3 (ipykernel)",
   "language": "python",
   "name": "python3"
  },
  "language_info": {
   "codemirror_mode": {
    "name": "ipython",
    "version": 3
   },
   "file_extension": ".py",
   "mimetype": "text/x-python",
   "name": "python",
   "nbconvert_exporter": "python",
   "pygments_lexer": "ipython3",
   "version": "3.8.10"
  }
 },
 "nbformat": 4,
 "nbformat_minor": 5
}
