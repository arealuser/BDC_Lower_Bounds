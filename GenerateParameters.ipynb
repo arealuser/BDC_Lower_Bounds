{
 "cells": [
  {
   "cell_type": "code",
   "execution_count": 1,
   "id": "385f3735",
   "metadata": {},
   "outputs": [],
   "source": [
    "%run ProduceLowerBounds.ipynb"
   ]
  },
  {
   "cell_type": "code",
   "execution_count": null,
   "id": "5d3ef247",
   "metadata": {},
   "outputs": [],
   "source": [
    "import time\n",
    "t0 = time.time()\n",
    "LOG_FACTORIALS = np.array([0] + [log_factorial(k) for k in range(1, K_MAX)])\n",
    "\n",
    "print(f'Generating cache table of size {R_MAX}x{Z_MAX}x{K_MAX} (~%.1f bits)...' % (np.log2(R_MAX*Z_MAX*K_MAX)))\n",
    "\n",
    "RZK_TABLE = np.zeros((R_MAX, Z_MAX, K_MAX))\n",
    "rs = np.reshape(np.arange(1, R_MAX), (-1, 1, 1))\n",
    "zs = np.reshape(np.arange(1, Z_MAX), (1, -1, 1))\n",
    "ks = np.reshape(np.arange(1, K_MAX), (1, 1, -1))\n",
    "RZK_TABLE[1:, 1:, 1:] = get_rzk_less_slow(rs, zs, ks)\n",
    "for z in ntqdm.trange(1, Z_MAX):\n",
    "    for k in range(1, K_MAX):\n",
    "        RZK_TABLE[0, z, k] = get_rzk_slow(0, z, k)\n",
    "\n",
    "print('Done. Table generation took %.1f seconds' % (time.time() - t0))"
   ]
  }
 ],
 "metadata": {
  "kernelspec": {
   "display_name": "Python 3 (ipykernel)",
   "language": "python",
   "name": "python3"
  },
  "language_info": {
   "codemirror_mode": {
    "name": "ipython",
    "version": 3
   },
   "file_extension": ".py",
   "mimetype": "text/x-python",
   "name": "python",
   "nbconvert_exporter": "python",
   "pygments_lexer": "ipython3",
   "version": "3.8.10"
  }
 },
 "nbformat": 4,
 "nbformat_minor": 5
}
