{
 "cells": [
  {
   "cell_type": "code",
   "execution_count": 1,
   "id": "c8f58769",
   "metadata": {},
   "outputs": [
    {
     "name": "stdout",
     "output_type": "stream",
     "text": [
      "Generating cache table of size 512x512x128 (~25.0 bits)...\n"
     ]
    },
    {
     "data": {
      "application/vnd.jupyter.widget-view+json": {
       "model_id": "c4577d0203134ff3bb6ec0c0bb01e116",
       "version_major": 2,
       "version_minor": 0
      },
      "text/plain": [
       "  0%|          | 0/511 [00:00<?, ?it/s]"
      ]
     },
     "metadata": {},
     "output_type": "display_data"
    },
    {
     "name": "stdout",
     "output_type": "stream",
     "text": [
      "Done. Table generation took 1.6 seconds\n"
     ]
    }
   ],
   "source": [
    "%run ComputeRateFromParams.ipynb"
   ]
  },
  {
   "cell_type": "code",
   "execution_count": 2,
   "id": "bc245f16",
   "metadata": {},
   "outputs": [],
   "source": [
    "from multiprocessing import Pool"
   ]
  },
  {
   "cell_type": "code",
   "execution_count": 3,
   "id": "e36bbdaf",
   "metadata": {},
   "outputs": [],
   "source": [
    "def compute_func_and_jacobian(f, p: tuple):\n",
    "    \"\"\"\n",
    "    Given some function f and a point p, computes the value of f at p and estimates its Jacobian by looking at p + epsilon e_i.\n",
    "    \"\"\"\n",
    "    foo = lambda p: f(*p)\n",
    "    DELTA = 1E-10\n",
    "    inputs = [p] + [p[:i] + (p[i] + DELTA,) + p[i+1:] for i in range(len(p))]\n",
    "    with Pool(len(p) + 1) as pool:\n",
    "        points = list(pool.map(foo, inputs))\n",
    "    base_point = points[0]\n",
    "    derivatives = np.zeros(len(p))\n",
    "    for i in range(len(p)):\n",
    "        derivatives[i] = (points[i+1] - base_point) / DELTA\n",
    "    return (base_point, derivatives)\n",
    "\n",
    "def get_direction(jacobian: np.ndarray):\n",
    "    return jacobian / np.linalg.norm(jacobian)\n",
    "\n",
    "def get_second_derivative(f, f_at_p: float, p: tuple, d: np.ndarray):\n",
    "    '''\n",
    "    Given a function f, a starting point p, the value of f at p and a direction d, \n",
    "        computes the first and second derivatives of f along d.\n",
    "    '''\n",
    "    DELTA = 1E-6\n",
    "    foo = lambda p: f(*p)\n",
    "    inputs = [[[p[i] + DELTA*d[i] for i in range(len(p))]], [p[i] - DELTA*d[i] for i in range(len(p))]]\n",
    "    with Pool(len(p) + 1) as pool:\n",
    "        points = list(pool.map(foo, inputs))\n",
    "    plus_delta = points[0]\n",
    "    minus_delta = points[1]\n",
    "    first_derivative = (plus_delta - minus_delta) / (2 * DELTA)\n",
    "    second_derivative = (plus_delta + minus_delta - (2 * f_at_p)) / (DELTA ** 2)\n",
    "    return (first_derivative, second_derivative)\n",
    "    \n",
    "\n",
    "def do_optimization_step(f, current_point: tuple, jump_limit: float = 0.1):\n",
    "    '''\n",
    "    Given a function f, a starting point and an upper bound on the distance of the jump allowed,\n",
    "        performs a step of gradient descent to maximize the function f.\n",
    "    Will ensure that all entries of the output point and all intermediary points are positive.\n",
    "    Returns as tuple of:\n",
    "        - The next point\n",
    "        - The value of f at the starting point\n",
    "        - The jacobian of f at the starting point\n",
    "    '''\n",
    "    bp, jac = compute_func_and_jacobian(f, current_point)\n",
    "    d = get_direction(jac)\n",
    "    first_derivative, second_derivative = get_second_derivative(f, bp, current_point, d)\n",
    "    jump_size = first_derivative / (-(second_derivative))\n",
    "    jump_size = min(jump_size, jump_limit)\n",
    "    if jump_size < 0:\n",
    "        jump_size = jump_limit\n",
    "    for i in range(len(current_point)):\n",
    "        if current_point[i] + (jump_size * d[i]) < 0:\n",
    "            jump_size = min(jump_size, -current_point[i] / (2 * d))\n",
    "    print(jump_size, jump_size * np.dot(d, jac))\n",
    "    next_point = tuple([current_point[i] + (jump_size * d[i]) for i in range(len(p))])\n",
    "    return (next_point, bp, jac)"
   ]
  },
  {
   "cell_type": "code",
   "execution_count": 4,
   "id": "34772644",
   "metadata": {},
   "outputs": [
    {
     "ename": "AttributeError",
     "evalue": "Can't pickle local object 'compute_func_and_jacobian.<locals>.<lambda>'",
     "output_type": "error",
     "traceback": [
      "\u001b[0;31m---------------------------------------------------------------------------\u001b[0m",
      "\u001b[0;31mAttributeError\u001b[0m                            Traceback (most recent call last)",
      "Input \u001b[0;32mIn [4]\u001b[0m, in \u001b[0;36m<cell line: 4>\u001b[0;34m()\u001b[0m\n\u001b[1;32m      3\u001b[0m data \u001b[38;5;241m=\u001b[39m []\n\u001b[1;32m      4\u001b[0m \u001b[38;5;28;01mfor\u001b[39;00m i \u001b[38;5;129;01min\u001b[39;00m it\u001b[38;5;241m.\u001b[39mcount():\n\u001b[0;32m----> 5\u001b[0m     p, bp, jac \u001b[38;5;241m=\u001b[39m \u001b[43mdo_optimization_step\u001b[49m\u001b[43m(\u001b[49m\u001b[43mcompute_rate_from_beta_g\u001b[49m\u001b[43m,\u001b[49m\u001b[43m \u001b[49m\u001b[43mp\u001b[49m\u001b[43m,\u001b[49m\u001b[43m \u001b[49m\u001b[38;5;241;43m0.025\u001b[39;49m\u001b[43m)\u001b[49m\n\u001b[1;32m      6\u001b[0m     data\u001b[38;5;241m.\u001b[39mappend((p, bp, jac))\n\u001b[1;32m      7\u001b[0m     \u001b[38;5;28mprint\u001b[39m(p, bp, \u001b[38;5;124m'\u001b[39m\u001b[38;5;132;01m%.1f\u001b[39;00m\u001b[38;5;124m'\u001b[39m \u001b[38;5;241m%\u001b[39m (time\u001b[38;5;241m.\u001b[39mtime() \u001b[38;5;241m-\u001b[39m t0))\n",
      "Input \u001b[0;32mIn [3]\u001b[0m, in \u001b[0;36mdo_optimization_step\u001b[0;34m(f, current_point, jump_limit)\u001b[0m\n\u001b[1;32m     36\u001b[0m \u001b[38;5;28;01mdef\u001b[39;00m \u001b[38;5;21mdo_optimization_step\u001b[39m(f, current_point: \u001b[38;5;28mtuple\u001b[39m, jump_limit: \u001b[38;5;28mfloat\u001b[39m \u001b[38;5;241m=\u001b[39m \u001b[38;5;241m0.1\u001b[39m):\n\u001b[1;32m     37\u001b[0m     \u001b[38;5;124;03m'''\u001b[39;00m\n\u001b[1;32m     38\u001b[0m \u001b[38;5;124;03m    Given a function f, a starting point and an upper bound on the distance of the jump allowed,\u001b[39;00m\n\u001b[1;32m     39\u001b[0m \u001b[38;5;124;03m        performs a step of gradient descent to maximize the function f.\u001b[39;00m\n\u001b[0;32m   (...)\u001b[0m\n\u001b[1;32m     44\u001b[0m \u001b[38;5;124;03m        - The jacobian of f at the starting point\u001b[39;00m\n\u001b[1;32m     45\u001b[0m \u001b[38;5;124;03m    '''\u001b[39;00m\n\u001b[0;32m---> 46\u001b[0m     bp, jac \u001b[38;5;241m=\u001b[39m \u001b[43mcompute_func_and_jacobian\u001b[49m\u001b[43m(\u001b[49m\u001b[43mf\u001b[49m\u001b[43m,\u001b[49m\u001b[43m \u001b[49m\u001b[43mcurrent_point\u001b[49m\u001b[43m)\u001b[49m\n\u001b[1;32m     47\u001b[0m     d \u001b[38;5;241m=\u001b[39m get_direction(jac)\n\u001b[1;32m     48\u001b[0m     first_derivative, second_derivative \u001b[38;5;241m=\u001b[39m get_second_derivative(f, bp, current_point, d)\n",
      "Input \u001b[0;32mIn [3]\u001b[0m, in \u001b[0;36mcompute_func_and_jacobian\u001b[0;34m(f, p)\u001b[0m\n\u001b[1;32m      7\u001b[0m inputs \u001b[38;5;241m=\u001b[39m [p] \u001b[38;5;241m+\u001b[39m [p[:i] \u001b[38;5;241m+\u001b[39m (p[i] \u001b[38;5;241m+\u001b[39m DELTA,) \u001b[38;5;241m+\u001b[39m p[i\u001b[38;5;241m+\u001b[39m\u001b[38;5;241m1\u001b[39m:] \u001b[38;5;28;01mfor\u001b[39;00m i \u001b[38;5;129;01min\u001b[39;00m \u001b[38;5;28mrange\u001b[39m(\u001b[38;5;28mlen\u001b[39m(p))]\n\u001b[1;32m      8\u001b[0m \u001b[38;5;28;01mwith\u001b[39;00m Pool(\u001b[38;5;28mlen\u001b[39m(p) \u001b[38;5;241m+\u001b[39m \u001b[38;5;241m1\u001b[39m) \u001b[38;5;28;01mas\u001b[39;00m pool:\n\u001b[0;32m----> 9\u001b[0m     points \u001b[38;5;241m=\u001b[39m \u001b[38;5;28mlist\u001b[39m(\u001b[43mpool\u001b[49m\u001b[38;5;241;43m.\u001b[39;49m\u001b[43mmap\u001b[49m\u001b[43m(\u001b[49m\u001b[43mfoo\u001b[49m\u001b[43m,\u001b[49m\u001b[43m \u001b[49m\u001b[43minputs\u001b[49m\u001b[43m)\u001b[49m)\n\u001b[1;32m     10\u001b[0m base_point \u001b[38;5;241m=\u001b[39m points[\u001b[38;5;241m0\u001b[39m]\n\u001b[1;32m     11\u001b[0m derivatives \u001b[38;5;241m=\u001b[39m np\u001b[38;5;241m.\u001b[39mzeros(\u001b[38;5;28mlen\u001b[39m(p))\n",
      "File \u001b[0;32m/usr/lib/python3.8/multiprocessing/pool.py:364\u001b[0m, in \u001b[0;36mPool.map\u001b[0;34m(self, func, iterable, chunksize)\u001b[0m\n\u001b[1;32m    359\u001b[0m \u001b[38;5;28;01mdef\u001b[39;00m \u001b[38;5;21mmap\u001b[39m(\u001b[38;5;28mself\u001b[39m, func, iterable, chunksize\u001b[38;5;241m=\u001b[39m\u001b[38;5;28;01mNone\u001b[39;00m):\n\u001b[1;32m    360\u001b[0m     \u001b[38;5;124;03m'''\u001b[39;00m\n\u001b[1;32m    361\u001b[0m \u001b[38;5;124;03m    Apply `func` to each element in `iterable`, collecting the results\u001b[39;00m\n\u001b[1;32m    362\u001b[0m \u001b[38;5;124;03m    in a list that is returned.\u001b[39;00m\n\u001b[1;32m    363\u001b[0m \u001b[38;5;124;03m    '''\u001b[39;00m\n\u001b[0;32m--> 364\u001b[0m     \u001b[38;5;28;01mreturn\u001b[39;00m \u001b[38;5;28;43mself\u001b[39;49m\u001b[38;5;241;43m.\u001b[39;49m\u001b[43m_map_async\u001b[49m\u001b[43m(\u001b[49m\u001b[43mfunc\u001b[49m\u001b[43m,\u001b[49m\u001b[43m \u001b[49m\u001b[43miterable\u001b[49m\u001b[43m,\u001b[49m\u001b[43m \u001b[49m\u001b[43mmapstar\u001b[49m\u001b[43m,\u001b[49m\u001b[43m \u001b[49m\u001b[43mchunksize\u001b[49m\u001b[43m)\u001b[49m\u001b[38;5;241;43m.\u001b[39;49m\u001b[43mget\u001b[49m\u001b[43m(\u001b[49m\u001b[43m)\u001b[49m\n",
      "File \u001b[0;32m/usr/lib/python3.8/multiprocessing/pool.py:771\u001b[0m, in \u001b[0;36mApplyResult.get\u001b[0;34m(self, timeout)\u001b[0m\n\u001b[1;32m    769\u001b[0m     \u001b[38;5;28;01mreturn\u001b[39;00m \u001b[38;5;28mself\u001b[39m\u001b[38;5;241m.\u001b[39m_value\n\u001b[1;32m    770\u001b[0m \u001b[38;5;28;01melse\u001b[39;00m:\n\u001b[0;32m--> 771\u001b[0m     \u001b[38;5;28;01mraise\u001b[39;00m \u001b[38;5;28mself\u001b[39m\u001b[38;5;241m.\u001b[39m_value\n",
      "File \u001b[0;32m/usr/lib/python3.8/multiprocessing/pool.py:537\u001b[0m, in \u001b[0;36mPool._handle_tasks\u001b[0;34m(taskqueue, put, outqueue, pool, cache)\u001b[0m\n\u001b[1;32m    535\u001b[0m     \u001b[38;5;28;01mbreak\u001b[39;00m\n\u001b[1;32m    536\u001b[0m \u001b[38;5;28;01mtry\u001b[39;00m:\n\u001b[0;32m--> 537\u001b[0m     \u001b[43mput\u001b[49m\u001b[43m(\u001b[49m\u001b[43mtask\u001b[49m\u001b[43m)\u001b[49m\n\u001b[1;32m    538\u001b[0m \u001b[38;5;28;01mexcept\u001b[39;00m \u001b[38;5;167;01mException\u001b[39;00m \u001b[38;5;28;01mas\u001b[39;00m e:\n\u001b[1;32m    539\u001b[0m     job, idx \u001b[38;5;241m=\u001b[39m task[:\u001b[38;5;241m2\u001b[39m]\n",
      "File \u001b[0;32m/usr/lib/python3.8/multiprocessing/connection.py:206\u001b[0m, in \u001b[0;36m_ConnectionBase.send\u001b[0;34m(self, obj)\u001b[0m\n\u001b[1;32m    204\u001b[0m \u001b[38;5;28mself\u001b[39m\u001b[38;5;241m.\u001b[39m_check_closed()\n\u001b[1;32m    205\u001b[0m \u001b[38;5;28mself\u001b[39m\u001b[38;5;241m.\u001b[39m_check_writable()\n\u001b[0;32m--> 206\u001b[0m \u001b[38;5;28mself\u001b[39m\u001b[38;5;241m.\u001b[39m_send_bytes(\u001b[43m_ForkingPickler\u001b[49m\u001b[38;5;241;43m.\u001b[39;49m\u001b[43mdumps\u001b[49m\u001b[43m(\u001b[49m\u001b[43mobj\u001b[49m\u001b[43m)\u001b[49m)\n",
      "File \u001b[0;32m/usr/lib/python3.8/multiprocessing/reduction.py:51\u001b[0m, in \u001b[0;36mForkingPickler.dumps\u001b[0;34m(cls, obj, protocol)\u001b[0m\n\u001b[1;32m     48\u001b[0m \u001b[38;5;129m@classmethod\u001b[39m\n\u001b[1;32m     49\u001b[0m \u001b[38;5;28;01mdef\u001b[39;00m \u001b[38;5;21mdumps\u001b[39m(\u001b[38;5;28mcls\u001b[39m, obj, protocol\u001b[38;5;241m=\u001b[39m\u001b[38;5;28;01mNone\u001b[39;00m):\n\u001b[1;32m     50\u001b[0m     buf \u001b[38;5;241m=\u001b[39m io\u001b[38;5;241m.\u001b[39mBytesIO()\n\u001b[0;32m---> 51\u001b[0m     \u001b[38;5;28;43mcls\u001b[39;49m\u001b[43m(\u001b[49m\u001b[43mbuf\u001b[49m\u001b[43m,\u001b[49m\u001b[43m \u001b[49m\u001b[43mprotocol\u001b[49m\u001b[43m)\u001b[49m\u001b[38;5;241;43m.\u001b[39;49m\u001b[43mdump\u001b[49m\u001b[43m(\u001b[49m\u001b[43mobj\u001b[49m\u001b[43m)\u001b[49m\n\u001b[1;32m     52\u001b[0m     \u001b[38;5;28;01mreturn\u001b[39;00m buf\u001b[38;5;241m.\u001b[39mgetbuffer()\n",
      "\u001b[0;31mAttributeError\u001b[0m: Can't pickle local object 'compute_func_and_jacobian.<locals>.<lambda>'"
     ]
    }
   ],
   "source": [
    "p = (1.79, 0.1, 0.23, 0.1)\n",
    "t0 = time.time()\n",
    "data = []\n",
    "for i in it.count():\n",
    "    p, bp, jac = do_optimization_step(compute_rate_from_beta_g, p, 0.025)\n",
    "    data.append((p, bp, jac))\n",
    "    print(p, bp, '%.1f' % (time.time() - t0))"
   ]
  },
  {
   "cell_type": "code",
   "execution_count": null,
   "id": "b24560fb",
   "metadata": {},
   "outputs": [],
   "source": []
  },
  {
   "cell_type": "code",
   "execution_count": null,
   "id": "9dbc1eaa",
   "metadata": {},
   "outputs": [],
   "source": [
    "p =(1.79, 0.1, 0.23, 0.1)\n",
    "bp, jac = compute_func_and_jacobian(compute_rate_from_beta_g, p)"
   ]
  },
  {
   "cell_type": "code",
   "execution_count": null,
   "id": "7f6107fa",
   "metadata": {},
   "outputs": [],
   "source": [
    "d = get_direction(jac)"
   ]
  },
  {
   "cell_type": "code",
   "execution_count": null,
   "id": "348be6c8",
   "metadata": {},
   "outputs": [],
   "source": [
    "get_second_derivative(compute_rate_from_beta_g, bp, p, d)"
   ]
  },
  {
   "cell_type": "code",
   "execution_count": null,
   "id": "8b78c5b4",
   "metadata": {},
   "outputs": [],
   "source": [
    "np.dot(d, jac)"
   ]
  },
  {
   "cell_type": "code",
   "execution_count": null,
   "id": "465497db",
   "metadata": {},
   "outputs": [],
   "source": [
    "np.dot((-0.5 * (_13[0] / _13[1]) * d), jac)"
   ]
  },
  {
   "cell_type": "code",
   "execution_count": null,
   "id": "6d9dba4e",
   "metadata": {},
   "outputs": [],
   "source": [
    "bp"
   ]
  },
  {
   "cell_type": "code",
   "execution_count": null,
   "id": "d6c436fe",
   "metadata": {},
   "outputs": [],
   "source": []
  }
 ],
 "metadata": {
  "kernelspec": {
   "display_name": "Python 3 (ipykernel)",
   "language": "python",
   "name": "python3"
  },
  "language_info": {
   "codemirror_mode": {
    "name": "ipython",
    "version": 3
   },
   "file_extension": ".py",
   "mimetype": "text/x-python",
   "name": "python",
   "nbconvert_exporter": "python",
   "pygments_lexer": "ipython3",
   "version": "3.8.10"
  }
 },
 "nbformat": 4,
 "nbformat_minor": 5
}
