{
 "cells": [
  {
   "cell_type": "code",
   "execution_count": 1,
   "id": "fb4a608b",
   "metadata": {},
   "outputs": [
    {
     "name": "stdout",
     "output_type": "stream",
     "text": [
      "Generating cache table of size 512x512x128 (~25.0 bits)...\n"
     ]
    },
    {
     "data": {
      "application/vnd.jupyter.widget-view+json": {
       "model_id": "091a10c18ecc4771baa20c1a404dcc14",
       "version_major": 2,
       "version_minor": 0
      },
      "text/plain": [
       "  0%|          | 0/511 [00:00<?, ?it/s]"
      ]
     },
     "metadata": {},
     "output_type": "display_data"
    },
    {
     "name": "stdout",
     "output_type": "stream",
     "text": [
      "Done. Table generation took 1.4 seconds\n"
     ]
    }
   ],
   "source": [
    "K_MAX = 128\n",
    "R_MAX = 1024\n",
    "Z_MAX = 1024\n",
    "import itertools as it\n",
    "\n",
    "%run GenerateParameters.ipynb"
   ]
  },
  {
   "cell_type": "code",
   "execution_count": 2,
   "id": "8d5659cb",
   "metadata": {},
   "outputs": [],
   "source": [
    "def get_block_dist(l, beta, g, alpha=0.5):\n",
    "    block_dist = stats.geom(g).pmf(np.arange(Z_MAX))\n",
    "    length_penalty = np.arange(Z_MAX) ** alpha\n",
    "    length_penalty[0] = 1\n",
    "    deletion_probability = np.exp(-l*np.arange(Z_MAX))\n",
    "    deletion_penalty = np.exp(-beta*deletion_probability)\n",
    "\n",
    "    block_dist = block_dist * deletion_penalty / length_penalty\n",
    "    block_dist = (1 / np.sum(block_dist)) * block_dist\n",
    "    return block_dist"
   ]
  },
  {
   "cell_type": "code",
   "execution_count": 3,
   "id": "29bd4e90",
   "metadata": {},
   "outputs": [],
   "source": [
    "def compute_rate_from_dist(l, dist):\n",
    "    rd = RunDistribution(dist, l)\n",
    "    return rd.compute_lower_bound() / l"
   ]
  },
  {
   "cell_type": "code",
   "execution_count": 4,
   "id": "a44789fc",
   "metadata": {},
   "outputs": [],
   "source": [
    "def compute_rate_from_beta_g(l, beta, g, alpha=0.5):\n",
    "    dist = get_block_dist(l, beta, g, alpha)\n",
    "    return compute_rate_from_dist(l, dist)"
   ]
  },
  {
   "cell_type": "code",
   "execution_count": null,
   "id": "991caa8f",
   "metadata": {},
   "outputs": [],
   "source": []
  }
 ],
 "metadata": {
  "kernelspec": {
   "display_name": "Python 3 (ipykernel)",
   "language": "python",
   "name": "python3"
  },
  "language_info": {
   "codemirror_mode": {
    "name": "ipython",
    "version": 3
   },
   "file_extension": ".py",
   "mimetype": "text/x-python",
   "name": "python",
   "nbconvert_exporter": "python",
   "pygments_lexer": "ipython3",
   "version": "3.8.10"
  }
 },
 "nbformat": 4,
 "nbformat_minor": 5
}
