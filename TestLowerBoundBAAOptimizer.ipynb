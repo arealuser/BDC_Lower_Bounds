{
 "cells": [
  {
   "cell_type": "code",
   "execution_count": null,
   "id": "764793c9",
   "metadata": {},
   "outputs": [],
   "source": [
    "%run LowerBoundBAAOptimizer.ipynb"
   ]
  },
  {
   "cell_type": "code",
   "execution_count": null,
   "id": "0ad6779c",
   "metadata": {},
   "outputs": [],
   "source": [
    "BAA_N = 512\n",
    "d = 0.5\n",
    "print(f'Computing BAA transition probs {BAA_N-1}x{BAA_N} (~2 ** %.1f)' % (np.log2(N * (N-1))))\n",
    "t0 = time.time()\n",
    "I = np.arange(1, BAA_N)\n",
    "J = np.arange(0, BAA_N)\n",
    "IJ, JI = np.meshgrid(I, J)\n",
    "P_ji = np.clip(stats.binom(IJ, d).pmf(JI), BAA_EPSILON, 1)\n",
    "print('That took %.1f seconds' % (time.time() - t0))\n",
    "\n",
    "D_i = P_ji[0, :]\n",
    "L_i = I\n",
    "\n",
    "beta = 5\n",
    "L_target = 25\n",
    "\n",
    "Q = np.ones(I.shape) / len(I)\n",
    "Qs = [Q]\n",
    "L_target = 10\n",
    "\n",
    "t1 = time.time()\n",
    "\n",
    "for beta in np.linspace(0.0, 4, 41):\n",
    "    best = 0.0\n",
    "    for L_target in np.linspace(1.5, 10, 30):\n",
    "        for i in range(100):\n",
    "            Qs.append(do_baa_step(P_ji, Qs[-1], L_target, beta, L_i, D_i))\n",
    "            if np.log(np.max(Qs[-1] / Qs[-2])) < 0.05:\n",
    "                break\n",
    "#         score_arr = np.nan_to_num([get_score(P_ji, Q, L_i, D_i, beta) for Q in Qs], -np.infty)\n",
    "        score = get_score(P_ji, Qs[-1], L_i, D_i, beta)\n",
    "        if score > best:\n",
    "            best = max(score, best)\n",
    "            print(f'{beta=},\\t{L_target=},\\t{score},\\t{best=},\\t{np.dot(D_i, Qs[-1])}')\n",
    "    print(f'{beta=},\\t{score},\\t{best=},\\t{time.time()-t1=}')"
   ]
  }
 ],
 "metadata": {
  "kernelspec": {
   "display_name": "Python 3 (ipykernel)",
   "language": "python",
   "name": "python3"
  },
  "language_info": {
   "codemirror_mode": {
    "name": "ipython",
    "version": 3
   },
   "file_extension": ".py",
   "mimetype": "text/x-python",
   "name": "python",
   "nbconvert_exporter": "python",
   "pygments_lexer": "ipython3",
   "version": "3.8.10"
  }
 },
 "nbformat": 4,
 "nbformat_minor": 5
}
