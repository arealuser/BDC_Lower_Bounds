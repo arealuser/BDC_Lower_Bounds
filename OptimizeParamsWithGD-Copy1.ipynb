{
 "cells": [
  {
   "cell_type": "code",
   "execution_count": 1,
   "id": "0c440b81",
   "metadata": {},
   "outputs": [
    {
     "name": "stdout",
     "output_type": "stream",
     "text": [
      "Generating cache table of size 1024x1024x128 (~27.0 bits)...\n"
     ]
    },
    {
     "data": {
      "application/vnd.jupyter.widget-view+json": {
       "model_id": "0a6eb2ef708f4f3fb968afd7aad08759",
       "version_major": 2,
       "version_minor": 0
      },
      "text/plain": [
       "  0%|          | 0/1023 [00:00<?, ?it/s]"
      ]
     },
     "metadata": {},
     "output_type": "display_data"
    },
    {
     "name": "stdout",
     "output_type": "stream",
     "text": [
      "Done. Table generation took 6.9 seconds\n"
     ]
    }
   ],
   "source": [
    "%run ComputeRateFromParams.ipynb"
   ]
  },
  {
   "cell_type": "code",
   "execution_count": 2,
   "id": "1aab1a2b",
   "metadata": {},
   "outputs": [],
   "source": [
    "def compute_func_and_jacobian(f, p: tuple):\n",
    "    \"\"\"\n",
    "    Given some function f and a point p, computes the value of f at p and estimates its Jacobian by looking at p + epsilon e_i.\n",
    "    \"\"\"\n",
    "    DELTA = 1E-10\n",
    "    base_point = f(*p)\n",
    "    derivatives = np.zeros(len(p))\n",
    "    for i in range(len(p)):\n",
    "        pt = p[:i] + (p[i] + DELTA,) + p[i+1:]\n",
    "        derivatives[i] = (f(*pt) - base_point) / DELTA\n",
    "    return (base_point, derivatives)\n",
    "\n",
    "def get_direction(jacobian: np.ndarray):\n",
    "    return jacobian / np.linalg.norm(jacobian)\n",
    "\n",
    "def get_second_derivative(f, f_at_p: float, p: tuple, d: np.ndarray):\n",
    "    '''\n",
    "    Given a function f, a starting point p, the value of f at p and a direction d, \n",
    "        computes the first and second derivatives of f along d.\n",
    "    '''\n",
    "    DELTA = 1E-6\n",
    "    plus_delta = f(*[p[i] + DELTA*d[i] for i in range(len(p))])\n",
    "    minus_delta = f(*[p[i] - DELTA*d[i] for i in range(len(p))])\n",
    "    first_derivative = (plus_delta - minus_delta) / (2 * DELTA)\n",
    "    second_derivative = (plus_delta + minus_delta - (2 * f_at_p)) / (DELTA ** 2)\n",
    "    return (first_derivative, second_derivative)\n",
    "    \n",
    "\n",
    "def do_optimization_step(f, current_point: tuple, jump_limit: float = 0.1):\n",
    "    '''\n",
    "    Given a function f, a starting point and an upper bound on the distance of the jump allowed,\n",
    "        performs a step of gradient descent to maximize the function f.\n",
    "    Will ensure that all entries of the output point and all intermediary points are positive.\n",
    "    Returns as tuple of:\n",
    "        - The next point\n",
    "        - The value of f at the starting point\n",
    "        - The jacobian of f at the starting point\n",
    "    '''\n",
    "    bp, jac = compute_func_and_jacobian(f, current_point)\n",
    "    d = get_direction(jac)\n",
    "    first_derivative, second_derivative = get_second_derivative(f, bp, current_point, d)\n",
    "    jump_size = first_derivative / (-(second_derivative))\n",
    "    jump_size = min(jump_size, jump_limit)\n",
    "    if jump_size < 0:\n",
    "        jump_size = jump_limit\n",
    "    for i in range(len(current_point)):\n",
    "        if current_point[i] + (jump_size * d[i]) < 0:\n",
    "            jump_size = min(jump_size, -current_point[i] / (2 * d))\n",
    "    print(jump_size, jump_size * np.dot(d, jac))\n",
    "    next_point = tuple([current_point[i] + (jump_size * d[i]) for i in range(len(p))])\n",
    "    return (next_point, bp, jac)"
   ]
  },
  {
   "cell_type": "code",
   "execution_count": 3,
   "id": "cf36a54f",
   "metadata": {},
   "outputs": [
    {
     "name": "stdout",
     "output_type": "stream",
     "text": [
      "0.025 0.10120844374661511\n",
      "(0.10908878985364172, 3.5000862963640325, 0.016710808259325655) 0.029886558125224835 22.5\n",
      "0.007919780746518779 0.01472770806460027\n",
      "(0.11027986227231976, 3.500092105031849, 0.008881105849541987) 0.11186500339973302 44.5\n",
      "0.0019014532742437926 0.003937094419998265\n",
      "(0.11011361680098002, 3.5000917707490586, 0.010775277670060517) 0.11489094236115366 65.1\n",
      "0.0007411657304146135 0.00035503748602356145\n",
      "(0.11003958921863505, 3.5000917928654323, 0.011512737198783317) 0.11718386992663432 86.6\n",
      "6.864684263946156e-05 2.608217069988663e-06\n",
      "(0.11003218747571385, 3.5000926125232104, 0.01158097891159317) 0.11737098884821616 109.5\n",
      "5.351321706543294e-07 1.656668049913072e-10\n",
      "(0.11003205074007548, 3.500092591892921, 0.01158149586826102) 0.11737228939531573 130.2\n",
      "0.025 8.346665223915924e-06\n",
      "(0.1341927902297195, 3.506514672325007, 0.011456795277346728) 0.11737228947094157 150.9\n",
      "0.0018238068803709472 0.0027487896484781537\n",
      "(0.1340296431739839, 3.50651433880977, 0.01327329038162331) 0.11558306574886842 172.3\n",
      "0.0007998174840123518 0.0003010008827280798\n",
      "(0.1339496804082031, 3.5065142010726045, 0.014069100625870646) 0.11720386492390727 192.2\n",
      "8.495605485956999e-05 2.830172147970706e-06\n",
      "(0.13394143424388613, 3.5065137349696687, 0.014153654246605736) 0.11736352161309349 212.2\n",
      "1.292523249821519e-05 8.7050394182121e-09\n",
      "(0.13395272146884915, 3.5065178125396117, 0.01415845358105202) 0.11736494421503703 233.6\n",
      "3.1078779879126134e-06 3.597538280288321e-09\n",
      "(0.13395377667178054, 3.5065178874321927, 0.014155531279995894) 0.1173649466639031 254.8\n",
      "8.000135285926089e-06 3.671121914075357e-09\n",
      "(0.13396153341859443, 3.5065190705417346, 0.014153970736734833) 0.11736494841548016 276.1\n",
      "2.541386338473455e-06 1.3630094555686989e-09\n",
      "(0.13396045626743425, 3.506519557824402, 0.014156220391264141) 0.11736494950239262 297.5\n",
      "6.13789599500927e-06 2.1654319909438648e-09\n",
      "(0.1339658959798012, 3.5065188455673457, 0.014158972842262063) 0.11736495056737895 318.1\n",
      "3.184699638313069e-06 3.3993916817421443e-09\n",
      "(0.1339680565086384, 3.506519085718117, 0.014156645450043977) 0.11736495146502796 338.7\n"
     ]
    },
    {
     "ename": "ValueError",
     "evalue": "The truth value of an array with more than one element is ambiguous. Use a.any() or a.all()",
     "output_type": "error",
     "traceback": [
      "\u001b[0;31m---------------------------------------------------------------------------\u001b[0m",
      "\u001b[0;31mValueError\u001b[0m                                Traceback (most recent call last)",
      "Input \u001b[0;32mIn [3]\u001b[0m, in \u001b[0;36m<cell line: 4>\u001b[0;34m()\u001b[0m\n\u001b[1;32m      3\u001b[0m data \u001b[38;5;241m=\u001b[39m []\n\u001b[1;32m      4\u001b[0m \u001b[38;5;28;01mfor\u001b[39;00m i \u001b[38;5;129;01min\u001b[39;00m it\u001b[38;5;241m.\u001b[39mcount():\n\u001b[0;32m----> 5\u001b[0m     p, bp, jac \u001b[38;5;241m=\u001b[39m \u001b[43mdo_optimization_step\u001b[49m\u001b[43m(\u001b[49m\u001b[43mcompute_rate_from_beta_g\u001b[49m\u001b[43m,\u001b[49m\u001b[43m \u001b[49m\u001b[43mp\u001b[49m\u001b[43m,\u001b[49m\u001b[43m \u001b[49m\u001b[38;5;241;43m0.025\u001b[39;49m\u001b[43m)\u001b[49m\n\u001b[1;32m      6\u001b[0m     data\u001b[38;5;241m.\u001b[39mappend((p, bp, jac))\n\u001b[1;32m      7\u001b[0m     \u001b[38;5;28mprint\u001b[39m(p, bp, \u001b[38;5;124m'\u001b[39m\u001b[38;5;132;01m%.1f\u001b[39;00m\u001b[38;5;124m'\u001b[39m \u001b[38;5;241m%\u001b[39m (time\u001b[38;5;241m.\u001b[39mtime() \u001b[38;5;241m-\u001b[39m t0))\n",
      "Input \u001b[0;32mIn [2]\u001b[0m, in \u001b[0;36mdo_optimization_step\u001b[0;34m(f, current_point, jump_limit)\u001b[0m\n\u001b[1;32m     46\u001b[0m \u001b[38;5;28;01mfor\u001b[39;00m i \u001b[38;5;129;01min\u001b[39;00m \u001b[38;5;28mrange\u001b[39m(\u001b[38;5;28mlen\u001b[39m(current_point)):\n\u001b[1;32m     47\u001b[0m     \u001b[38;5;28;01mif\u001b[39;00m current_point[i] \u001b[38;5;241m+\u001b[39m (jump_size \u001b[38;5;241m*\u001b[39m d[i]) \u001b[38;5;241m<\u001b[39m \u001b[38;5;241m0\u001b[39m:\n\u001b[0;32m---> 48\u001b[0m         jump_size \u001b[38;5;241m=\u001b[39m \u001b[38;5;28;43mmin\u001b[39;49m\u001b[43m(\u001b[49m\u001b[43mjump_size\u001b[49m\u001b[43m,\u001b[49m\u001b[43m \u001b[49m\u001b[38;5;241;43m-\u001b[39;49m\u001b[43mcurrent_point\u001b[49m\u001b[43m[\u001b[49m\u001b[43mi\u001b[49m\u001b[43m]\u001b[49m\u001b[43m \u001b[49m\u001b[38;5;241;43m/\u001b[39;49m\u001b[43m \u001b[49m\u001b[43m(\u001b[49m\u001b[38;5;241;43m2\u001b[39;49m\u001b[43m \u001b[49m\u001b[38;5;241;43m*\u001b[39;49m\u001b[43m \u001b[49m\u001b[43md\u001b[49m\u001b[43m)\u001b[49m\u001b[43m)\u001b[49m\n\u001b[1;32m     49\u001b[0m \u001b[38;5;28mprint\u001b[39m(jump_size, jump_size \u001b[38;5;241m*\u001b[39m np\u001b[38;5;241m.\u001b[39mdot(d, jac))\n\u001b[1;32m     50\u001b[0m next_point \u001b[38;5;241m=\u001b[39m \u001b[38;5;28mtuple\u001b[39m([current_point[i] \u001b[38;5;241m+\u001b[39m (jump_size \u001b[38;5;241m*\u001b[39m d[i]) \u001b[38;5;28;01mfor\u001b[39;00m i \u001b[38;5;129;01min\u001b[39;00m \u001b[38;5;28mrange\u001b[39m(\u001b[38;5;28mlen\u001b[39m(p))])\n",
      "\u001b[0;31mValueError\u001b[0m: The truth value of an array with more than one element is ambiguous. Use a.any() or a.all()"
     ]
    }
   ],
   "source": [
    "p = (0.1, 3.5, 0.04)\n",
    "t0 = time.time()\n",
    "data = []\n",
    "for i in it.count():\n",
    "    p, bp, jac = do_optimization_step(compute_rate_from_beta_g, p, 0.025)\n",
    "    data.append((p, bp, jac))\n",
    "    print(p, bp, '%.1f' % (time.time() - t0))"
   ]
  },
  {
   "cell_type": "code",
   "execution_count": null,
   "id": "d7671ea2",
   "metadata": {},
   "outputs": [],
   "source": []
  },
  {
   "cell_type": "code",
   "execution_count": null,
   "id": "d76f51f0",
   "metadata": {},
   "outputs": [],
   "source": [
    "p =(1.79, 0.1, 0.23, 0.1)\n",
    "bp, jac = compute_func_and_jacobian(compute_rate_from_beta_g, p)"
   ]
  },
  {
   "cell_type": "code",
   "execution_count": null,
   "id": "2471ad88",
   "metadata": {},
   "outputs": [],
   "source": [
    "d = get_direction(jac)"
   ]
  },
  {
   "cell_type": "code",
   "execution_count": null,
   "id": "3a4c0318",
   "metadata": {},
   "outputs": [],
   "source": [
    "get_second_derivative(compute_rate_from_beta_g, bp, p, d)"
   ]
  },
  {
   "cell_type": "code",
   "execution_count": null,
   "id": "21d68a2b",
   "metadata": {},
   "outputs": [],
   "source": [
    "np.dot(d, jac)"
   ]
  },
  {
   "cell_type": "code",
   "execution_count": null,
   "id": "aaba9f47",
   "metadata": {},
   "outputs": [],
   "source": [
    "np.dot((-0.5 * (_13[0] / _13[1]) * d), jac)"
   ]
  },
  {
   "cell_type": "code",
   "execution_count": null,
   "id": "bd186c1f",
   "metadata": {},
   "outputs": [],
   "source": [
    "bp"
   ]
  },
  {
   "cell_type": "code",
   "execution_count": null,
   "id": "81193316",
   "metadata": {},
   "outputs": [],
   "source": []
  }
 ],
 "metadata": {
  "kernelspec": {
   "display_name": "Python 3 (ipykernel)",
   "language": "python",
   "name": "python3"
  },
  "language_info": {
   "codemirror_mode": {
    "name": "ipython",
    "version": 3
   },
   "file_extension": ".py",
   "mimetype": "text/x-python",
   "name": "python",
   "nbconvert_exporter": "python",
   "pygments_lexer": "ipython3",
   "version": "3.8.10"
  }
 },
 "nbformat": 4,
 "nbformat_minor": 5
}
